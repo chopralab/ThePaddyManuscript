{
 "cells": [
  {
   "cell_type": "markdown",
   "metadata": {},
   "source": [
    "# Paddy Summary"
   ]
  },
  {
   "cell_type": "code",
   "execution_count": 1,
   "metadata": {},
   "outputs": [
    {
     "name": "stdout",
     "output_type": "stream",
     "text": [
      "Extracted summary saved to 'Gramacy_Paddy_extracted_summary.txt'\n"
     ]
    }
   ],
   "source": [
    "# Open the file and find the line that starts with \"Overall Summary\"\n",
    "filename='Gramacy_Paddy_10Jan25_7687032'\n",
    "file_path = f\"../../../raw/{filename}.log\"  # Replace with your actual file path\n",
    "\n",
    "with open(file_path, \"r\") as file:\n",
    "    lines = file.readlines()\n",
    "\n",
    "# Find the starting line index for \"Overall Summary\"\n",
    "start_index = next(i for i, line in enumerate(lines) if line.strip().startswith(\"Overall Summary\"))\n",
    "\n",
    "# Extract everything from \"Overall Summary\" onward\n",
    "summary_data = lines[start_index:]\n",
    "\n",
    "# Save the extracted data to a new file or process it\n",
    "with open(\"Gramacy_Paddy_extracted_summary.txt\", \"w\") as output_file:\n",
    "    output_file.writelines(summary_data)\n",
    "\n",
    "print(\"Extracted summary saved to 'Gramacy_Paddy_extracted_summary.txt'\")\n"
   ]
  },
  {
   "cell_type": "code",
   "execution_count": 2,
   "metadata": {},
   "outputs": [
    {
     "name": "stderr",
     "output_type": "stream",
     "text": [
      "/scratch/gilbreth/iyer95/conda_envs/plot/lib/python3.10/site-packages/pandas/core/computation/expressions.py:21: UserWarning: Pandas requires version '2.8.4' or newer of 'numexpr' (version '2.7.3' currently installed).\n",
      "  from pandas.core.computation.check import NUMEXPR_INSTALLED\n",
      "/scratch/gilbreth/iyer95/conda_envs/plot/lib/python3.10/site-packages/pandas/core/arrays/masked.py:60: UserWarning: Pandas requires version '1.3.6' or newer of 'bottleneck' (version '1.3.4' currently installed).\n",
      "  from pandas.core import (\n"
     ]
    },
    {
     "data": {
      "text/html": [
       "<div>\n",
       "<style scoped>\n",
       "    .dataframe tbody tr th:only-of-type {\n",
       "        vertical-align: middle;\n",
       "    }\n",
       "\n",
       "    .dataframe tbody tr th {\n",
       "        vertical-align: top;\n",
       "    }\n",
       "\n",
       "    .dataframe thead th {\n",
       "        text-align: right;\n",
       "    }\n",
       "</style>\n",
       "<table border=\"1\" class=\"dataframe\">\n",
       "  <thead>\n",
       "    <tr style=\"text-align: right;\">\n",
       "      <th></th>\n",
       "      <th>Run</th>\n",
       "      <th>MSE</th>\n",
       "      <th>Time</th>\n",
       "    </tr>\n",
       "  </thead>\n",
       "  <tbody>\n",
       "    <tr>\n",
       "      <th>0</th>\n",
       "      <td>1</td>\n",
       "      <td>4.153838</td>\n",
       "      <td>10.75</td>\n",
       "    </tr>\n",
       "    <tr>\n",
       "      <th>1</th>\n",
       "      <td>2</td>\n",
       "      <td>2.613982</td>\n",
       "      <td>10.59</td>\n",
       "    </tr>\n",
       "    <tr>\n",
       "      <th>2</th>\n",
       "      <td>3</td>\n",
       "      <td>4.219753</td>\n",
       "      <td>10.00</td>\n",
       "    </tr>\n",
       "    <tr>\n",
       "      <th>3</th>\n",
       "      <td>4</td>\n",
       "      <td>4.237884</td>\n",
       "      <td>10.76</td>\n",
       "    </tr>\n",
       "    <tr>\n",
       "      <th>4</th>\n",
       "      <td>5</td>\n",
       "      <td>3.205962</td>\n",
       "      <td>9.57</td>\n",
       "    </tr>\n",
       "    <tr>\n",
       "      <th>...</th>\n",
       "      <td>...</td>\n",
       "      <td>...</td>\n",
       "      <td>...</td>\n",
       "    </tr>\n",
       "    <tr>\n",
       "      <th>95</th>\n",
       "      <td>96</td>\n",
       "      <td>3.968530</td>\n",
       "      <td>11.05</td>\n",
       "    </tr>\n",
       "    <tr>\n",
       "      <th>96</th>\n",
       "      <td>97</td>\n",
       "      <td>3.091827</td>\n",
       "      <td>10.18</td>\n",
       "    </tr>\n",
       "    <tr>\n",
       "      <th>97</th>\n",
       "      <td>98</td>\n",
       "      <td>2.918014</td>\n",
       "      <td>9.92</td>\n",
       "    </tr>\n",
       "    <tr>\n",
       "      <th>98</th>\n",
       "      <td>99</td>\n",
       "      <td>3.790696</td>\n",
       "      <td>10.25</td>\n",
       "    </tr>\n",
       "    <tr>\n",
       "      <th>99</th>\n",
       "      <td>100</td>\n",
       "      <td>3.501449</td>\n",
       "      <td>10.39</td>\n",
       "    </tr>\n",
       "  </tbody>\n",
       "</table>\n",
       "<p>100 rows × 3 columns</p>\n",
       "</div>"
      ],
      "text/plain": [
       "    Run       MSE   Time\n",
       "0     1  4.153838  10.75\n",
       "1     2  2.613982  10.59\n",
       "2     3  4.219753  10.00\n",
       "3     4  4.237884  10.76\n",
       "4     5  3.205962   9.57\n",
       "..  ...       ...    ...\n",
       "95   96  3.968530  11.05\n",
       "96   97  3.091827  10.18\n",
       "97   98  2.918014   9.92\n",
       "98   99  3.790696  10.25\n",
       "99  100  3.501449  10.39\n",
       "\n",
       "[100 rows x 3 columns]"
      ]
     },
     "execution_count": 2,
     "metadata": {},
     "output_type": "execute_result"
    }
   ],
   "source": [
    "import pandas as pd\n",
    "import re\n",
    "\n",
    "# Function to parse the extracted summary\n",
    "def parse_paddy_extractedsummary(file_path):\n",
    "    # Read the content of the file\n",
    "    with open(file_path, 'r') as file:\n",
    "        summary = file.read()\n",
    "    \n",
    "    # Define a regular expression to extract run details\n",
    "    pattern = r\"Run (\\d+): Best MSE: ([\\d.]+),\\s+Elapsed time: ([\\d.]+) seconds\"\n",
    "    matches = re.findall(pattern, summary)\n",
    "    \n",
    "    # Create a DataFrame from the extracted data\n",
    "    df = pd.DataFrame(matches, columns=[\"Run\", \"MSE\", \"Time\"])\n",
    "    \n",
    "    # Convert columns to appropriate data types\n",
    "    df[\"Run\"] = df[\"Run\"].astype(int)\n",
    "    df[\"MSE\"] = df[\"MSE\"].astype(float)\n",
    "    df[\"Time\"] = df[\"Time\"].astype(float)\n",
    "    \n",
    "    return df\n",
    "\n",
    "# Example usage in a Jupyter cell\n",
    "file_path = \"Gramacy_Paddy_extracted_summary.txt\"  # Path to your text file\n",
    "\n",
    "# Parse the file and create a DataFrame\n",
    "df = parse_paddy_extractedsummary(file_path)\n",
    "# to csv\n",
    "df.to_csv(f\"{filename}_SUMMARY.csv\", index=False)\n",
    "# Display the DataFrame\n",
    "df\n"
   ]
  },
  {
   "cell_type": "markdown",
   "metadata": {},
   "source": [
    "# final summary"
   ]
  },
  {
   "cell_type": "code",
   "execution_count": 3,
   "metadata": {},
   "outputs": [
    {
     "data": {
      "text/html": [
       "<div>\n",
       "<style scoped>\n",
       "    .dataframe tbody tr th:only-of-type {\n",
       "        vertical-align: middle;\n",
       "    }\n",
       "\n",
       "    .dataframe tbody tr th {\n",
       "        vertical-align: top;\n",
       "    }\n",
       "\n",
       "    .dataframe thead th {\n",
       "        text-align: right;\n",
       "    }\n",
       "</style>\n",
       "<table border=\"1\" class=\"dataframe\">\n",
       "  <thead>\n",
       "    <tr style=\"text-align: right;\">\n",
       "      <th></th>\n",
       "      <th>Best MSE</th>\n",
       "      <th>Worst MSE</th>\n",
       "      <th>Average MSE</th>\n",
       "      <th>MSE StdDev</th>\n",
       "      <th>Average Time</th>\n",
       "      <th>Time StdDev</th>\n",
       "    </tr>\n",
       "  </thead>\n",
       "  <tbody>\n",
       "    <tr>\n",
       "      <th>0</th>\n",
       "      <td>1.96173</td>\n",
       "      <td>6.046857</td>\n",
       "      <td>3.44134</td>\n",
       "      <td>0.651177</td>\n",
       "      <td>10.328</td>\n",
       "      <td>0.484226</td>\n",
       "    </tr>\n",
       "  </tbody>\n",
       "</table>\n",
       "</div>"
      ],
      "text/plain": [
       "   Best MSE  Worst MSE  Average MSE  MSE StdDev  Average Time  Time StdDev\n",
       "0   1.96173   6.046857      3.44134    0.651177        10.328     0.484226"
      ]
     },
     "execution_count": 3,
     "metadata": {},
     "output_type": "execute_result"
    }
   ],
   "source": [
    "# Calculate summary statistics for Min_MSE\n",
    "mse_summary = {\n",
    "    'Best MSE': [df['MSE'].min()],  # Since lower MSE is better\n",
    "    'Worst MSE': [df['MSE'].max()],\n",
    "    'Average MSE': [df['MSE'].mean()],\n",
    "    'MSE StdDev': [df['MSE'].std()],\n",
    "    # add time \n",
    "    'Average Time': [df['Time'].mean()],\n",
    "    'Time StdDev': [df['Time'].std()]\n",
    "}\n",
    "mse_summary_df = pd.DataFrame(mse_summary)\n",
    "mse_summary_df.to_csv(f'{filename}_FINAL_SUMMARY.csv', index=False)\n",
    "mse_summary_df"
   ]
  }
 ],
 "metadata": {
  "kernelspec": {
   "display_name": "Python 3",
   "language": "python",
   "name": "python3"
  },
  "language_info": {
   "codemirror_mode": {
    "name": "ipython",
    "version": 3
   },
   "file_extension": ".py",
   "mimetype": "text/x-python",
   "name": "python",
   "nbconvert_exporter": "python",
   "pygments_lexer": "ipython3",
   "version": "3.10.4"
  }
 },
 "nbformat": 4,
 "nbformat_minor": 2
}
